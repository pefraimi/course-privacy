{
  "cells": [
    {
      "cell_type": "markdown",
      "metadata": {
        "id": "view-in-github",
        "colab_type": "text"
      },
      "source": [
        "<a href=\"https://colab.research.google.com/github/pefraimi/privacy/blob/main/dp.ipynb\" target=\"_parent\"><img src=\"https://colab.research.google.com/assets/colab-badge.svg\" alt=\"Open In Colab\"/></a>"
      ]
    },
    {
      "cell_type": "markdown",
      "source": [
        "https://blog.openmined.org/differential-privacy-using-pydp/"
      ],
      "metadata": {
        "collapsed": false,
        "pycharm": {
          "name": "#%% md\n"
        },
        "id": "zMTwUTVJwDoI"
      }
    },
    {
      "cell_type": "markdown",
      "source": [
        "Installing PyDP"
      ],
      "metadata": {
        "collapsed": false,
        "pycharm": {
          "name": "#%% md\n"
        },
        "id": "CUiYSt5MwDoM"
      }
    },
    {
      "cell_type": "code",
      "execution_count": null,
      "outputs": [
        {
          "output_type": "stream",
          "name": "stdout",
          "text": [
            "Collecting python-dp\n",
            "  Downloading python_dp-1.1.1-cp37-cp37m-manylinux1_x86_64.whl (3.5 MB)\n",
            "\u001b[K     |████████████████████████████████| 3.5 MB 14.8 MB/s \n",
            "\u001b[?25hRequirement already satisfied: matplotlib in /usr/local/lib/python3.7/dist-packages (3.2.2)\n",
            "Requirement already satisfied: kiwisolver>=1.0.1 in /usr/local/lib/python3.7/dist-packages (from matplotlib) (1.4.0)\n",
            "Requirement already satisfied: cycler>=0.10 in /usr/local/lib/python3.7/dist-packages (from matplotlib) (0.11.0)\n",
            "Requirement already satisfied: python-dateutil>=2.1 in /usr/local/lib/python3.7/dist-packages (from matplotlib) (2.8.2)\n",
            "Requirement already satisfied: pyparsing!=2.0.4,!=2.1.2,!=2.1.6,>=2.0.1 in /usr/local/lib/python3.7/dist-packages (from matplotlib) (3.0.7)\n",
            "Requirement already satisfied: numpy>=1.11 in /usr/local/lib/python3.7/dist-packages (from matplotlib) (1.21.5)\n",
            "Requirement already satisfied: typing-extensions in /usr/local/lib/python3.7/dist-packages (from kiwisolver>=1.0.1->matplotlib) (3.10.0.2)\n",
            "Requirement already satisfied: six>=1.5 in /usr/local/lib/python3.7/dist-packages (from python-dateutil>=2.1->matplotlib) (1.15.0)\n",
            "Installing collected packages: python-dp\n",
            "Successfully installed python-dp-1.1.1\n"
          ]
        }
      ],
      "source": [
        "!pip install python-dp matplotlib"
      ],
      "metadata": {
        "pycharm": {
          "name": "#%%\n"
        },
        "id": "FpzLh_sbwDoP",
        "outputId": "977ce0be-231c-48a9-e4b5-b999f38d352c",
        "colab": {
          "base_uri": "https://localhost:8080/"
        }
      }
    },
    {
      "cell_type": "markdown",
      "source": [
        "Necessary Imports"
      ],
      "metadata": {
        "collapsed": false,
        "pycharm": {
          "name": "#%% md\n"
        },
        "id": "asFv9clgwDoS"
      }
    },
    {
      "cell_type": "code",
      "execution_count": null,
      "outputs": [],
      "source": [
        "import pydp as dp # by convention our package is to be imported as dp (dp for Differential Privacy!)\n",
        "from pydp.algorithms.laplacian import BoundedSum, BoundedMean, Count, Max\n",
        "import pandas as pd\n",
        "import statistics\n",
        "import numpy as np\n",
        "import matplotlib.pyplot as plt"
      ],
      "metadata": {
        "pycharm": {
          "name": "#%%\n"
        },
        "id": "cMVLLlfPwDoV"
      }
    },
    {
      "cell_type": "markdown",
      "source": [
        "Fetch data"
      ],
      "metadata": {
        "id": "GzI9tdWqwUfZ"
      }
    },
    {
      "cell_type": "code",
      "execution_count": null,
      "outputs": [
        {
          "output_type": "stream",
          "name": "stdout",
          "text": [
            "   id first_name   last_name                      email  sales_amount  \\\n",
            "0   1   Osbourne    Gillions  ogillions0@feedburner.com         31.94   \n",
            "1   2      Glynn      Friett          gfriett1@blog.com         12.46   \n",
            "2   3       Jori    Blockley      jblockley2@unesco.org        191.14   \n",
            "3   4     Garald      Dorian     gdorian3@webeden.co.uk        126.58   \n",
            "4   5      Mercy  Pilkington      mpilkington4@jugem.jp         68.32   \n",
            "\n",
            "        state  \n",
            "0     Florida  \n",
            "1  California  \n",
            "2    Colorado  \n",
            "3       Texas  \n",
            "4     Florida  \n"
          ]
        }
      ],
      "source": [
        "url1 = 'https://raw.githubusercontent.com/OpenMined/PyDP/dev/examples/Tutorial_4-Launch_demo/data/01.csv'\n",
        "df1 = pd.read_csv(url1,sep=\",\", engine = \"python\")\n",
        "print(df1.head())"
      ],
      "metadata": {
        "pycharm": {
          "name": "#%%\n"
        },
        "id": "2UR0W7qFwDoX",
        "outputId": "18ec6fd5-c0dd-436d-b955-bec777d66b14",
        "colab": {
          "base_uri": "https://localhost:8080/"
        }
      }
    },
    {
      "cell_type": "code",
      "source": [
        "url2 = 'https://raw.githubusercontent.com/OpenMined/PyDP/dev/examples/Tutorial_4-Launch_demo/data/02.csv'\n",
        "df2 = pd.read_csv(url2,sep=\",\", engine = \"python\")\n",
        "print(df2.head())"
      ],
      "metadata": {
        "id": "KPNGz-jzwbog",
        "outputId": "b72ba5c2-ea51-43e4-dece-4b3c24153a56",
        "colab": {
          "base_uri": "https://localhost:8080/"
        }
      },
      "execution_count": null,
      "outputs": [
        {
          "output_type": "stream",
          "name": "stdout",
          "text": [
            "   id first_name    last_name                        email  sales_amount  \\\n",
            "0   1     Wallie        Kaman          wkaman0@samsung.com         99.69   \n",
            "1   2    Raynard        Tooby        rtooby1@indiegogo.com        208.61   \n",
            "2   3     Mandie  Stallibrass  mstallibrass2@princeton.edu         42.87   \n",
            "3   4      Nonna       Regitz             nregitz3@icq.com        160.94   \n",
            "4   5    Barthel      Cowgill            bcowgill4@tiny.cc        179.88   \n",
            "\n",
            "      state  \n",
            "0     Idaho  \n",
            "1     Texas  \n",
            "2  Michigan  \n",
            "3      Iowa  \n",
            "4      Ohio  \n"
          ]
        }
      ]
    },
    {
      "cell_type": "code",
      "source": [
        "url3 ='https://raw.githubusercontent.com/OpenMined/PyDP/dev/examples/Tutorial_4-Launch_demo/data/03.csv'\n",
        "df3 = pd.read_csv(url3,sep=\",\", engine = \"python\")\n",
        "df3.head()"
      ],
      "metadata": {
        "id": "Mfkh3SFEwfAo",
        "outputId": "c65a8b2d-ed7f-46b5-8c89-7a300a342ee0",
        "colab": {
          "base_uri": "https://localhost:8080/",
          "height": 206
        }
      },
      "execution_count": null,
      "outputs": [
        {
          "output_type": "execute_result",
          "data": {
            "text/plain": [
              "   id first_name   last_name                         email  sales_amount  \\\n",
              "0   1   Tomasina      Marcos              tmarcos0@wix.com        161.38   \n",
              "1   2       Mill     Yitzhak  myitzhak1@barnesandnoble.com        182.22   \n",
              "2   3     Hobart  Banaszczyk          hbanaszczyk2@mac.com         41.67   \n",
              "3   4     Bonita     Benting         bbenting3@smugmug.com        190.26   \n",
              "4   5     Kasper       Deyes           kdeyes4@storify.com        177.94   \n",
              "\n",
              "     state  \n",
              "0  Indiana  \n",
              "1  Florida  \n",
              "2    Texas  \n",
              "3  Indiana  \n",
              "4     Ohio  "
            ],
            "text/html": [
              "\n",
              "  <div id=\"df-22574184-038d-4883-bc17-134a6afc70f7\">\n",
              "    <div class=\"colab-df-container\">\n",
              "      <div>\n",
              "<style scoped>\n",
              "    .dataframe tbody tr th:only-of-type {\n",
              "        vertical-align: middle;\n",
              "    }\n",
              "\n",
              "    .dataframe tbody tr th {\n",
              "        vertical-align: top;\n",
              "    }\n",
              "\n",
              "    .dataframe thead th {\n",
              "        text-align: right;\n",
              "    }\n",
              "</style>\n",
              "<table border=\"1\" class=\"dataframe\">\n",
              "  <thead>\n",
              "    <tr style=\"text-align: right;\">\n",
              "      <th></th>\n",
              "      <th>id</th>\n",
              "      <th>first_name</th>\n",
              "      <th>last_name</th>\n",
              "      <th>email</th>\n",
              "      <th>sales_amount</th>\n",
              "      <th>state</th>\n",
              "    </tr>\n",
              "  </thead>\n",
              "  <tbody>\n",
              "    <tr>\n",
              "      <th>0</th>\n",
              "      <td>1</td>\n",
              "      <td>Tomasina</td>\n",
              "      <td>Marcos</td>\n",
              "      <td>tmarcos0@wix.com</td>\n",
              "      <td>161.38</td>\n",
              "      <td>Indiana</td>\n",
              "    </tr>\n",
              "    <tr>\n",
              "      <th>1</th>\n",
              "      <td>2</td>\n",
              "      <td>Mill</td>\n",
              "      <td>Yitzhak</td>\n",
              "      <td>myitzhak1@barnesandnoble.com</td>\n",
              "      <td>182.22</td>\n",
              "      <td>Florida</td>\n",
              "    </tr>\n",
              "    <tr>\n",
              "      <th>2</th>\n",
              "      <td>3</td>\n",
              "      <td>Hobart</td>\n",
              "      <td>Banaszczyk</td>\n",
              "      <td>hbanaszczyk2@mac.com</td>\n",
              "      <td>41.67</td>\n",
              "      <td>Texas</td>\n",
              "    </tr>\n",
              "    <tr>\n",
              "      <th>3</th>\n",
              "      <td>4</td>\n",
              "      <td>Bonita</td>\n",
              "      <td>Benting</td>\n",
              "      <td>bbenting3@smugmug.com</td>\n",
              "      <td>190.26</td>\n",
              "      <td>Indiana</td>\n",
              "    </tr>\n",
              "    <tr>\n",
              "      <th>4</th>\n",
              "      <td>5</td>\n",
              "      <td>Kasper</td>\n",
              "      <td>Deyes</td>\n",
              "      <td>kdeyes4@storify.com</td>\n",
              "      <td>177.94</td>\n",
              "      <td>Ohio</td>\n",
              "    </tr>\n",
              "  </tbody>\n",
              "</table>\n",
              "</div>\n",
              "      <button class=\"colab-df-convert\" onclick=\"convertToInteractive('df-22574184-038d-4883-bc17-134a6afc70f7')\"\n",
              "              title=\"Convert this dataframe to an interactive table.\"\n",
              "              style=\"display:none;\">\n",
              "        \n",
              "  <svg xmlns=\"http://www.w3.org/2000/svg\" height=\"24px\"viewBox=\"0 0 24 24\"\n",
              "       width=\"24px\">\n",
              "    <path d=\"M0 0h24v24H0V0z\" fill=\"none\"/>\n",
              "    <path d=\"M18.56 5.44l.94 2.06.94-2.06 2.06-.94-2.06-.94-.94-2.06-.94 2.06-2.06.94zm-11 1L8.5 8.5l.94-2.06 2.06-.94-2.06-.94L8.5 2.5l-.94 2.06-2.06.94zm10 10l.94 2.06.94-2.06 2.06-.94-2.06-.94-.94-2.06-.94 2.06-2.06.94z\"/><path d=\"M17.41 7.96l-1.37-1.37c-.4-.4-.92-.59-1.43-.59-.52 0-1.04.2-1.43.59L10.3 9.45l-7.72 7.72c-.78.78-.78 2.05 0 2.83L4 21.41c.39.39.9.59 1.41.59.51 0 1.02-.2 1.41-.59l7.78-7.78 2.81-2.81c.8-.78.8-2.07 0-2.86zM5.41 20L4 18.59l7.72-7.72 1.47 1.35L5.41 20z\"/>\n",
              "  </svg>\n",
              "      </button>\n",
              "      \n",
              "  <style>\n",
              "    .colab-df-container {\n",
              "      display:flex;\n",
              "      flex-wrap:wrap;\n",
              "      gap: 12px;\n",
              "    }\n",
              "\n",
              "    .colab-df-convert {\n",
              "      background-color: #E8F0FE;\n",
              "      border: none;\n",
              "      border-radius: 50%;\n",
              "      cursor: pointer;\n",
              "      display: none;\n",
              "      fill: #1967D2;\n",
              "      height: 32px;\n",
              "      padding: 0 0 0 0;\n",
              "      width: 32px;\n",
              "    }\n",
              "\n",
              "    .colab-df-convert:hover {\n",
              "      background-color: #E2EBFA;\n",
              "      box-shadow: 0px 1px 2px rgba(60, 64, 67, 0.3), 0px 1px 3px 1px rgba(60, 64, 67, 0.15);\n",
              "      fill: #174EA6;\n",
              "    }\n",
              "\n",
              "    [theme=dark] .colab-df-convert {\n",
              "      background-color: #3B4455;\n",
              "      fill: #D2E3FC;\n",
              "    }\n",
              "\n",
              "    [theme=dark] .colab-df-convert:hover {\n",
              "      background-color: #434B5C;\n",
              "      box-shadow: 0px 1px 3px 1px rgba(0, 0, 0, 0.15);\n",
              "      filter: drop-shadow(0px 1px 2px rgba(0, 0, 0, 0.3));\n",
              "      fill: #FFFFFF;\n",
              "    }\n",
              "  </style>\n",
              "\n",
              "      <script>\n",
              "        const buttonEl =\n",
              "          document.querySelector('#df-22574184-038d-4883-bc17-134a6afc70f7 button.colab-df-convert');\n",
              "        buttonEl.style.display =\n",
              "          google.colab.kernel.accessAllowed ? 'block' : 'none';\n",
              "\n",
              "        async function convertToInteractive(key) {\n",
              "          const element = document.querySelector('#df-22574184-038d-4883-bc17-134a6afc70f7');\n",
              "          const dataTable =\n",
              "            await google.colab.kernel.invokeFunction('convertToInteractive',\n",
              "                                                     [key], {});\n",
              "          if (!dataTable) return;\n",
              "\n",
              "          const docLinkHtml = 'Like what you see? Visit the ' +\n",
              "            '<a target=\"_blank\" href=https://colab.research.google.com/notebooks/data_table.ipynb>data table notebook</a>'\n",
              "            + ' to learn more about interactive tables.';\n",
              "          element.innerHTML = '';\n",
              "          dataTable['output_type'] = 'display_data';\n",
              "          await google.colab.output.renderOutput(dataTable, element);\n",
              "          const docLink = document.createElement('div');\n",
              "          docLink.innerHTML = docLinkHtml;\n",
              "          element.appendChild(docLink);\n",
              "        }\n",
              "      </script>\n",
              "    </div>\n",
              "  </div>\n",
              "  "
            ]
          },
          "metadata": {},
          "execution_count": 5
        }
      ]
    },
    {
      "cell_type": "markdown",
      "source": [
        "# New Section"
      ],
      "metadata": {
        "id": "ZkdmuRXPxuSw"
      }
    },
    {
      "cell_type": "code",
      "source": [
        "url4 = 'https://raw.githubusercontent.com/OpenMined/PyDP/dev/examples/Tutorial_4-Launch_demo/data/04.csv'\n",
        "df4 = pd.read_csv(url4,sep=\",\", engine = \"python\")\n",
        "print(df4.head())"
      ],
      "metadata": {
        "id": "afuTYN_0whNi",
        "outputId": "d4820565-006c-4348-b789-1a1b8e0ec402",
        "colab": {
          "base_uri": "https://localhost:8080/"
        }
      },
      "execution_count": null,
      "outputs": [
        {
          "output_type": "stream",
          "name": "stdout",
          "text": [
            "   id first_name last_name                         email  sales_amount  \\\n",
            "0   1      Dylan  Mattocks  dmattocks0@elegantthemes.com        141.90   \n",
            "1   2      Tully    Pettko         tpettko1@engadget.com         15.09   \n",
            "2   3        Ruy   Rodrigo      rrodrigo2@whitehouse.gov         90.72   \n",
            "3   4   Blakeley     Lower        blower3@macromedia.com         29.87   \n",
            "4   5     Horace  Studdert    hstuddert4@theatlantic.com        196.99   \n",
            "\n",
            "        state  \n",
            "0   Wisconsin  \n",
            "1    Missouri  \n",
            "2     Florida  \n",
            "3  California  \n",
            "4        Ohio  \n"
          ]
        }
      ]
    },
    {
      "cell_type": "code",
      "source": [
        "url5 = 'https://raw.githubusercontent.com/OpenMined/PyDP/dev/examples/Tutorial_4-Launch_demo/data/05.csv'\n",
        "df5 = pd.read_csv(url5,sep=\",\", engine = \"python\")\n",
        "print(df5.head())"
      ],
      "metadata": {
        "id": "Q7ZHTKKJwiNY",
        "outputId": "e8c69ef3-7575-4c71-a01b-ceedf9936346",
        "colab": {
          "base_uri": "https://localhost:8080/"
        }
      },
      "execution_count": null,
      "outputs": [
        {
          "output_type": "stream",
          "name": "stdout",
          "text": [
            "   id first_name last_name                    email  sales_amount       state\n",
            "0   1       Susi    Barker     sbarker0@comsenz.com        220.50    Kentucky\n",
            "1   2        Gan     Stork          gstork1@who.int         31.75  California\n",
            "2   3     Corene      Izod         cizod2@wikia.com        163.53  California\n",
            "3   4    Cornell  Schoales  cschoales3@freewebs.com         59.09   Minnesota\n",
            "4   5    Petrina  Kennaird     pkennaird4@patch.com        186.38     Georgia\n"
          ]
        }
      ]
    },
    {
      "cell_type": "code",
      "source": [
        "combined_df_temp = [df1, df2, df3, df4, df5]\n",
        "original_dataset = pd.concat(combined_df_temp)\n",
        "print(original_dataset.shape)"
      ],
      "metadata": {
        "id": "vPZ6YrGmwjmi",
        "outputId": "71927d7e-7624-453a-ef1e-c62f14eb64ef",
        "colab": {
          "base_uri": "https://localhost:8080/"
        }
      },
      "execution_count": null,
      "outputs": [
        {
          "output_type": "stream",
          "name": "stdout",
          "text": [
            "(5000, 6)\n"
          ]
        }
      ]
    },
    {
      "cell_type": "markdown",
      "source": [
        "Createing a Parallel Database that differs by one one record."
      ],
      "metadata": {
        "id": "00DE7i62wsXi"
      }
    },
    {
      "cell_type": "code",
      "source": [
        "redact_dataset = original_dataset.copy()\n",
        "redact_dataset = redact_dataset[1:]\n",
        "print(original_dataset.head())\n",
        "print(redact_dataset.head())"
      ],
      "metadata": {
        "id": "ZpKMvQlnwy9B",
        "outputId": "58582215-0819-408f-c104-dd8e6daeaca6",
        "colab": {
          "base_uri": "https://localhost:8080/"
        }
      },
      "execution_count": null,
      "outputs": [
        {
          "output_type": "stream",
          "name": "stdout",
          "text": [
            "   id first_name   last_name                      email  sales_amount  \\\n",
            "0   1   Osbourne    Gillions  ogillions0@feedburner.com         31.94   \n",
            "1   2      Glynn      Friett          gfriett1@blog.com         12.46   \n",
            "2   3       Jori    Blockley      jblockley2@unesco.org        191.14   \n",
            "3   4     Garald      Dorian     gdorian3@webeden.co.uk        126.58   \n",
            "4   5      Mercy  Pilkington      mpilkington4@jugem.jp         68.32   \n",
            "\n",
            "        state  \n",
            "0     Florida  \n",
            "1  California  \n",
            "2    Colorado  \n",
            "3       Texas  \n",
            "4     Florida  \n",
            "   id first_name   last_name                    email  sales_amount  \\\n",
            "1   2      Glynn      Friett        gfriett1@blog.com         12.46   \n",
            "2   3       Jori    Blockley    jblockley2@unesco.org        191.14   \n",
            "3   4     Garald      Dorian   gdorian3@webeden.co.uk        126.58   \n",
            "4   5      Mercy  Pilkington    mpilkington4@jugem.jp         68.32   \n",
            "5   6       Elle  McConachie  emcconachie5@census.gov         76.91   \n",
            "\n",
            "        state  \n",
            "1  California  \n",
            "2    Colorado  \n",
            "3       Texas  \n",
            "4     Florida  \n",
            "5       Texas  \n"
          ]
        }
      ]
    },
    {
      "cell_type": "markdown",
      "source": [
        "Is the amount of money we spend at our neighbourhood store private or sensitive information? Well, it may not seem all that sensitive! But, what if the same information can be used to identify us?"
      ],
      "metadata": {
        "id": "HCLvrD3bw4Vb"
      }
    },
    {
      "cell_type": "code",
      "source": [
        "sum_original_dataset = round(sum(original_dataset['sales_amount'].to_list()), 2)\n",
        "sum_redact_dataset = round(sum(redact_dataset['sales_amount'].to_list()), 2)\n",
        "sales_amount_Osbourne = round((sum_original_dataset - sum_redact_dataset), 2)\n",
        "assert sales_amount_Osbourne == original_dataset.iloc[0, 4]"
      ],
      "metadata": {
        "id": "EZtERL3Yw6mw"
      },
      "execution_count": null,
      "outputs": []
    },
    {
      "cell_type": "markdown",
      "source": [
        "Differentially Private Sum"
      ],
      "metadata": {
        "id": "1Zwo1J_dw-CY"
      }
    },
    {
      "cell_type": "code",
      "source": [
        "dp_sum_original_dataset = BoundedSum(epsilon= 1.5, lower_bound =  5, upper_bound = 250, dtype ='float') \n",
        "dp_sum_og = dp_sum_original_dataset.quick_result(original_dataset['sales_amount'].to_list())\n",
        "dp_sum_og = round(dp_sum_og, 2)\n",
        "print(dp_sum_og)"
      ],
      "metadata": {
        "id": "ONRutmPSw-3t",
        "outputId": "db6b5d38-d17b-48d2-bc9e-1d7d02f17683",
        "colab": {
          "base_uri": "https://localhost:8080/"
        }
      },
      "execution_count": null,
      "outputs": [
        {
          "output_type": "stream",
          "name": "stdout",
          "text": [
            "636830.02\n"
          ]
        }
      ]
    },
    {
      "cell_type": "code",
      "source": [
        "dp_redact_dataset = BoundedSum(epsilon= 1.5, lower_bound =  5, upper_bound = 250, dtype ='float')\n",
        "dp_redact_dataset.add_entries(redact_dataset['sales_amount'].to_list())\n",
        "dp_sum_redact=round(dp_redact_dataset.result(), 2)\n",
        "print(dp_sum_redact)"
      ],
      "metadata": {
        "id": "qJWOcob_xAgq",
        "outputId": "c527dc0d-b055-48c5-d2fb-6cb13c806eaa",
        "colab": {
          "base_uri": "https://localhost:8080/"
        }
      },
      "execution_count": null,
      "outputs": [
        {
          "output_type": "stream",
          "name": "stdout",
          "text": [
            "636715.03\n"
          ]
        }
      ]
    },
    {
      "cell_type": "markdown",
      "source": [
        "Observations"
      ],
      "metadata": {
        "id": "NJ9kZ5ggxELA"
      }
    },
    {
      "cell_type": "code",
      "source": [
        "print(f\"Sum of sales_value in the orignal dataset: {sum_original_dataset}\")\n",
        "print(f\"Sum of sales_value in the orignal dataset with DP: {dp_sum_og}\")\n",
        "assert dp_sum_og != sum_original_dataset"
      ],
      "metadata": {
        "id": "Fy7wLUokxHBS",
        "outputId": "a187ceab-ee0e-4abb-9410-9814cdff6807",
        "colab": {
          "base_uri": "https://localhost:8080/"
        }
      },
      "execution_count": null,
      "outputs": [
        {
          "output_type": "stream",
          "name": "stdout",
          "text": [
            "Sum of sales_value in the orignal dataset: 636594.59\n",
            "Sum of sales_value in the orignal dataset with DP: 636830.02\n"
          ]
        }
      ]
    },
    {
      "cell_type": "code",
      "source": [
        "print(f\"Sum of sales_value in the second dataset: {sum_redact_dataset}\")\n",
        "print(f\"Sum of sales_value in the second dataset with DP: {dp_sum_redact}\")\n",
        "assert dp_sum_redact != sum_redact_dataset"
      ],
      "metadata": {
        "id": "i_0zcCn0xMVx",
        "outputId": "2789f0aa-97d2-4e3a-9479-ca5413aa41c3",
        "colab": {
          "base_uri": "https://localhost:8080/"
        }
      },
      "execution_count": null,
      "outputs": [
        {
          "output_type": "stream",
          "name": "stdout",
          "text": [
            "Sum of sales_value in the second dataset: 636562.65\n",
            "Sum of sales_value in the second dataset with DP: 636715.03\n"
          ]
        }
      ]
    },
    {
      "cell_type": "code",
      "source": [
        "print(f\"Difference in Sum with DP: {round(dp_sum_og - dp_sum_redact, 2)}\")\n",
        "print(f\"Actual Difference in Sum: {sales_amount_Osbourne}\")\n",
        "assert round(dp_sum_og - dp_sum_redact, 2) != sales_amount_Osbourne"
      ],
      "metadata": {
        "id": "LIa7-bN1xMfh",
        "outputId": "97398d81-2d83-468b-d9e9-e2147e88251f",
        "colab": {
          "base_uri": "https://localhost:8080/"
        }
      },
      "execution_count": null,
      "outputs": [
        {
          "output_type": "stream",
          "name": "stdout",
          "text": [
            "Difference in Sum with DP: 114.99\n",
            "Actual Difference in Sum: 31.94\n"
          ]
        }
      ]
    }
  ],
  "metadata": {
    "kernelspec": {
      "display_name": "Python 3",
      "language": "python",
      "name": "python3"
    },
    "language_info": {
      "codemirror_mode": {
        "name": "ipython",
        "version": 2
      },
      "file_extension": ".py",
      "mimetype": "text/x-python",
      "name": "python",
      "nbconvert_exporter": "python",
      "pygments_lexer": "ipython2",
      "version": "2.7.6"
    },
    "colab": {
      "name": "Copy of dp.ipynb",
      "provenance": [],
      "toc_visible": true,
      "include_colab_link": true
    }
  },
  "nbformat": 4,
  "nbformat_minor": 0
}
